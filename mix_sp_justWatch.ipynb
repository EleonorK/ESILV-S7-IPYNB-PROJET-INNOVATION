{
 "cells": [
  {
   "cell_type": "markdown",
   "metadata": {},
   "source": [
    "### Scrapping JustWatch"
   ]
  },
  {
   "cell_type": "code",
   "execution_count": 1,
   "metadata": {},
   "outputs": [],
   "source": [
    "import pandas as pd\n",
    "import numpy as np\n",
    "from bs4 import BeautifulSoup\n",
    "import re \n",
    "import requests\n",
    "from selenium import webdriver\n",
    "from selenium.webdriver.common.by import By\n",
    "from selenium.webdriver.common.keys import Keys\n",
    "import time"
   ]
  },
  {
   "cell_type": "code",
   "execution_count": 2,
   "metadata": {},
   "outputs": [],
   "source": [
    "driver_path = r\"/Users/kiouloueleonor/Documents/Ecole/A4/python for data/TD/TP7_selenium/chromedriver\""
   ]
  },
  {
   "cell_type": "code",
   "execution_count": 3,
   "metadata": {},
   "outputs": [],
   "source": [
    "driver = webdriver.Chrome(driver_path)\n",
    "driver.get(\"https://www.justwatch.com/fr\")\n",
    "src = driver.page_source\n",
    "soup = BeautifulSoup(src, 'lxml')"
   ]
  },
  {
   "cell_type": "code",
   "execution_count": 4,
   "metadata": {},
   "outputs": [
    {
     "name": "stdout",
     "output_type": "stream",
     "text": [
      "['https://www.justwatch.com/fr/plateforme/netflix', 'https://www.justwatch.com/fr/plateforme/netflix/nouveau', '/fr/plateforme/netflix', '/fr/plateforme/netflix-basic-with-ads', '/fr/plateforme/netflix', '/fr/plateforme/netflix/nouveau'] \n",
      "\n",
      "['https://www.justwatch.com/fr/plateforme/amazon-prime-video', '/fr/plateforme/amazon-prime-video', '/fr/plateforme/amazon-prime-video', '/fr/plateforme/amazon-prime-video/nouveau'] \n",
      "\n",
      "['/fr/plateforme/disney-plus', '/fr/plateforme/disney-plus', '/fr/plateforme/disney-plus/nouveau'] \n",
      "\n",
      "['https://www.justwatch.com/fr/plateforme/canal', '/fr/plateforme/canal', '/fr/plateforme/canal-vod', '/fr/plateforme/canal-sport', '/fr/plateforme/canal', '/fr/plateforme/canal/nouveau'] \n",
      "\n",
      "['https://www.justwatch.com/fr/plateforme/ocs-go', 'https://www.justwatch.com/fr/plateforme/ocs-go/nouveau', '/fr/plateforme/ocs-go', '/fr/plateforme/ocs-go', '/fr/plateforme/ocs-go/nouveau'] \n",
      "\n",
      "['/fr/plateforme/wakanim'] \n",
      "\n",
      "['/fr/plateforme/anime-digital-networks']\n"
     ]
    }
   ],
   "source": [
    "# list of all the link\n",
    "previous_list = []\n",
    "for a in soup.find_all('a', href=True):\n",
    "    previous_list.append(a['href'])\n",
    "\n",
    "# only link for the different platform\n",
    "list_netflix = []\n",
    "list_amazon = []\n",
    "list_disney = []\n",
    "list_canal = []\n",
    "list_ocs = []\n",
    "list_wakanim = []\n",
    "list_adn=[]\n",
    "for j in previous_list:\n",
    "    if \"/fr/plateforme/netflix\" in j:\n",
    "        list_netflix.append(j)\n",
    "    if \"/fr/plateforme/amazon-prime-video\" in j:\n",
    "        list_amazon.append(j)\n",
    "    if \"/fr/plateforme/disney-plus\" in j:\n",
    "        list_disney.append(j) \n",
    "    if \"/fr/plateforme/canal\" in j:\n",
    "        list_canal.append(j)\n",
    "    if \"/fr/plateforme/ocs-go\" in j:\n",
    "        list_ocs.append(j)\n",
    "    if \"/fr/plateforme/wakanim\" in j:\n",
    "        list_wakanim.append(j)\n",
    "    if \"/fr/plateforme/anime-digital-networks\" in j:\n",
    "        list_adn.append(j)\n",
    "print (list_netflix,'\\n')\n",
    "print (list_amazon, '\\n')\n",
    "print (list_disney, '\\n')\n",
    "print (list_canal, '\\n')\n",
    "print (list_ocs, '\\n')\n",
    "print (list_wakanim, '\\n')\n",
    "print (list_adn)"
   ]
  },
  {
   "cell_type": "code",
   "execution_count": 5,
   "metadata": {},
   "outputs": [],
   "source": [
    "def scroll():\n",
    "    SCROLL_PAUSE_TIME = 0.5\n",
    "\n",
    "    # Get scroll height\n",
    "    last_height = driver.execute_script(\"return document.body.scrollHeight\")\n",
    "\n",
    "    while True:\n",
    "        # Scroll down to bottom\n",
    "        driver.execute_script(\"window.scrollTo(0, document.body.scrollHeight);\")\n",
    "\n",
    "        # Wait to load page\n",
    "        time.sleep(SCROLL_PAUSE_TIME)\n",
    "\n",
    "        # Calculate new scroll height and compare with last scroll height\n",
    "        new_height = driver.execute_script(\"return document.body.scrollHeight\")\n",
    "        if new_height == last_height:\n",
    "            break\n",
    "        last_height = new_height"
   ]
  },
  {
   "cell_type": "code",
   "execution_count": 6,
   "metadata": {},
   "outputs": [],
   "source": [
    "def link_page():\n",
    "    list_link = []\n",
    "    for a in soup.find_all('a', href=True):\n",
    "        list_link.append(a['href'])\n",
    "    return list_link"
   ]
  },
  {
   "cell_type": "code",
   "execution_count": 7,
   "metadata": {},
   "outputs": [],
   "source": [
    "def serie_film_link(content, platform):\n",
    "    list_rd = []\n",
    "    str = \"/fr/\"+content+\"/\"\n",
    "    for j in platform:\n",
    "        if str in j:\n",
    "            list_rd.append(j)\n",
    "    return list_rd"
   ]
  },
  {
   "cell_type": "code",
   "execution_count": 18,
   "metadata": {},
   "outputs": [],
   "source": [
    "def Scrap_page(link):\n",
    "    names=[]   \n",
    "    genres_tit=[]\n",
    "    année=[]\n",
    "    cast=[]\n",
    "    genres=[]\n",
    "    cast_tit=[]\n",
    "    images=[]\n",
    "    notes=[]\n",
    "\n",
    "    driver.get(f\"https://www.justwatch.com{link}\")\n",
    "    src = driver.page_source\n",
    "    soup = BeautifulSoup(src, 'lxml')\n",
    "\n",
    "    time.sleep(0.5)\n",
    "    \n",
    "    try:\n",
    "        names.append(soup.find(\"div\",class_=\"title-block\").find(\"h1\").get_text())\n",
    "    except:\n",
    "        names.append(np.nan)\n",
    "    \n",
    "    try:\n",
    "        div = soup.find(\"div\",class_=\"title-info visible-xs visible-sm\")\n",
    "        for t in div.find_all(\"span\"):\n",
    "            if(t.get_text()!=\", \"):\n",
    "                genres_tit.append(t.get_text().replace(\", \",''))\n",
    "    except:\n",
    "        genres_tit.append(np.nan)\n",
    "    genres.append(genres_tit)\n",
    "    \n",
    "    try:\n",
    "        année.append(re.findall('\\d+',soup.find(\"div\",class_=\"title-block\").find(\"span\").get_text())[0])\n",
    "    except:\n",
    "        année.append(np.nan)\n",
    "    \n",
    "    try:\n",
    "        divo = soup.find(\"div\",class_=\"hidden-horizontal-scrollbar title-credits\")\n",
    "\n",
    "        for t in divo.find_all(\"a\",class_='title-credit-name'):\n",
    "            cast_tit.append(t.get_text())\n",
    "        cast.append(cast_tit)\n",
    "    except:\n",
    "        cast.append(np.nan)\n",
    "    \n",
    "    try:\n",
    "        pict=soup.find('picture',class_='picture-comp title-poster__image')\n",
    "        images.append(pict.find('img')['data-src'])\n",
    "    except:\n",
    "        images.append(np.nan)\n",
    "    \n",
    "    try:\n",
    "        notes.append(soup.find(\"div\",attrs={'v-uib-tooltip':'IMDB'}).find(\"a\").get_text())\n",
    "    except:\n",
    "        notes.append(np.nan)\n",
    "    \n",
    "    return(année,names,cast,genres,images,notes)\n",
    "    "
   ]
  },
  {
   "cell_type": "markdown",
   "metadata": {},
   "source": [
    "### NETFLIX"
   ]
  },
  {
   "cell_type": "code",
   "execution_count": 52,
   "metadata": {},
   "outputs": [],
   "source": [
    "driver.get(list_netflix[0])\n"
   ]
  },
  {
   "cell_type": "code",
   "execution_count": 53,
   "metadata": {},
   "outputs": [],
   "source": [
    "scroll()\n"
   ]
  },
  {
   "cell_type": "code",
   "execution_count": 54,
   "metadata": {},
   "outputs": [],
   "source": [
    "src = driver.page_source\n",
    "soup = BeautifulSoup(src, 'lxml')\n",
    "list_netflix_all_Link = link_page()"
   ]
  },
  {
   "cell_type": "code",
   "execution_count": 55,
   "metadata": {},
   "outputs": [],
   "source": [
    "list_netflix_serie = serie_film_link(\"serie\",list_netflix_all_Link)\n",
    "list_netflix_film = serie_film_link(\"film\",list_netflix_all_Link)"
   ]
  },
  {
   "cell_type": "code",
   "execution_count": 56,
   "metadata": {},
   "outputs": [
    {
     "name": "stdout",
     "output_type": "stream",
     "text": [
      "['/fr/serie/wednesday', '/fr/serie/1899', '/fr/serie/the-walking-dead', '/fr/serie/manifest', '/fr/serie/guillermo-del-toros-cabinet-of-curiosities', '/fr/serie/the-crown', '/fr/serie/inside-man', '/fr/serie/warrior-nun', '/fr/serie/attack-on-titan', '/fr/serie/the-watcher'] \n",
      "\n",
      "['/fr/film/enola-holmes-2', '/fr/film/all-quiet-on-the-western-front', '/fr/film/balle-perdue-2', '/fr/film/once-upon-a-time-in-hollywood', '/fr/film/premieres-vacances', '/fr/film/medieval', '/fr/film/slumberland', '/fr/film/get-out', '/fr/film/retour-a-zombieland', '/fr/film/boulevard-de-la-mort'] \n",
      "\n",
      "['/fr/serie/the-i-land', '/fr/serie/teenage-bounty-hunters', '/fr/serie/toy-boy', '/fr/serie/exhibit-a', '/fr/serie/black-dog', '/fr/serie/the-peripheral', '/fr/serie/andor', '/fr/serie/house-of-the-dragon', '/fr/serie/wednesday']\n"
     ]
    }
   ],
   "source": [
    "print(list_netflix_serie[0:10], '\\n')\n",
    "print(list_netflix_film[0:10],'\\n')\n",
    "\n",
    "print(list_netflix_serie[-10:-1])"
   ]
  },
  {
   "cell_type": "code",
   "execution_count": 57,
   "metadata": {},
   "outputs": [
    {
     "name": "stdout",
     "output_type": "stream",
     "text": [
      "1250\n"
     ]
    }
   ],
   "source": [
    "print(len(list_netflix_film))"
   ]
  },
  {
   "cell_type": "code",
   "execution_count": 64,
   "metadata": {},
   "outputs": [
    {
     "name": "stdout",
     "output_type": "stream",
     "text": [
      "720\n"
     ]
    }
   ],
   "source": [
    "print(len(list_netflix_serie))"
   ]
  },
  {
   "cell_type": "code",
   "execution_count": 58,
   "metadata": {},
   "outputs": [],
   "source": [
    "i=[]\n",
    "for link in list_netflix_film:\n",
    "    i.append((Scrap_page(link)))\n",
    "    "
   ]
  },
  {
   "cell_type": "code",
   "execution_count": 61,
   "metadata": {},
   "outputs": [],
   "source": [
    "net_film_df=pd.DataFrame(i)"
   ]
  },
  {
   "cell_type": "code",
   "execution_count": 63,
   "metadata": {},
   "outputs": [],
   "source": [
    "net_film_df.to_csv(\"netflix_films.csv\")"
   ]
  },
  {
   "cell_type": "code",
   "execution_count": 65,
   "metadata": {},
   "outputs": [],
   "source": [
    "i=[]\n",
    "for link in list_netflix_serie:\n",
    "    i.append((Scrap_page(link)))"
   ]
  },
  {
   "cell_type": "code",
   "execution_count": 66,
   "metadata": {},
   "outputs": [],
   "source": [
    "net_serie_df=pd.DataFrame(i)"
   ]
  },
  {
   "cell_type": "code",
   "execution_count": 67,
   "metadata": {},
   "outputs": [
    {
     "data": {
      "text/html": [
       "<div>\n",
       "<style scoped>\n",
       "    .dataframe tbody tr th:only-of-type {\n",
       "        vertical-align: middle;\n",
       "    }\n",
       "\n",
       "    .dataframe tbody tr th {\n",
       "        vertical-align: top;\n",
       "    }\n",
       "\n",
       "    .dataframe thead th {\n",
       "        text-align: right;\n",
       "    }\n",
       "</style>\n",
       "<table border=\"1\" class=\"dataframe\">\n",
       "  <thead>\n",
       "    <tr style=\"text-align: right;\">\n",
       "      <th></th>\n",
       "      <th>0</th>\n",
       "      <th>1</th>\n",
       "      <th>2</th>\n",
       "      <th>3</th>\n",
       "      <th>4</th>\n",
       "      <th>5</th>\n",
       "    </tr>\n",
       "  </thead>\n",
       "  <tbody>\n",
       "    <tr>\n",
       "      <th>0</th>\n",
       "      <td>[2022]</td>\n",
       "      <td>[ Mercredi ]</td>\n",
       "      <td>[[ Jenna Ortega ,  Gwendoline Christie ,  Perc...</td>\n",
       "      <td>[[Science-Fiction , Comédie , Crime &amp; Thriller...</td>\n",
       "      <td>[https://images.justwatch.com/poster/300809371...</td>\n",
       "      <td>[ 8.5 (33k) ]</td>\n",
       "    </tr>\n",
       "    <tr>\n",
       "      <th>1</th>\n",
       "      <td>[2022]</td>\n",
       "      <td>[ 1899 ]</td>\n",
       "      <td>[[ Emily Beecham ,  Andreas Pietschmann ,  Ane...</td>\n",
       "      <td>[[Mystère &amp; Thriller , Drame , Histoire , Horr...</td>\n",
       "      <td>[https://images.justwatch.com/poster/301799146...</td>\n",
       "      <td>[ 7.8 (37k) ]</td>\n",
       "    </tr>\n",
       "    <tr>\n",
       "      <th>2</th>\n",
       "      <td>[2010]</td>\n",
       "      <td>[ The Walking Dead ]</td>\n",
       "      <td>[[ Norman Reedus ,  Melissa McBride ,  Lauren ...</td>\n",
       "      <td>[[Action &amp; Aventure , Drame , Science-Fiction ...</td>\n",
       "      <td>[https://images.justwatch.com/poster/113085646...</td>\n",
       "      <td>[ 8.1 (986k) ]</td>\n",
       "    </tr>\n",
       "    <tr>\n",
       "      <th>3</th>\n",
       "      <td>[2018]</td>\n",
       "      <td>[ Manifest ]</td>\n",
       "      <td>[[ Melissa Roxburgh ,  Josh Dallas ,  Ty Doran...</td>\n",
       "      <td>[[Drame , Science-Fiction , Mystère &amp; Thriller ]]</td>\n",
       "      <td>[https://images.justwatch.com/poster/301353166...</td>\n",
       "      <td>[ 7.1 (65k) ]</td>\n",
       "    </tr>\n",
       "    <tr>\n",
       "      <th>4</th>\n",
       "      <td>[2022]</td>\n",
       "      <td>[ Le Cabinet de curiosités de Guillermo del To...</td>\n",
       "      <td>[[]]</td>\n",
       "      <td>[[Drame , Mystère &amp; Thriller , Horreur ]]</td>\n",
       "      <td>[https://images.justwatch.com/poster/301424163...</td>\n",
       "      <td>[ 7.1 (31k) ]</td>\n",
       "    </tr>\n",
       "    <tr>\n",
       "      <th>...</th>\n",
       "      <td>...</td>\n",
       "      <td>...</td>\n",
       "      <td>...</td>\n",
       "      <td>...</td>\n",
       "      <td>...</td>\n",
       "      <td>...</td>\n",
       "    </tr>\n",
       "    <tr>\n",
       "      <th>715</th>\n",
       "      <td>[2022]</td>\n",
       "      <td>[ Périphériques, Les Mondes de Flynne ]</td>\n",
       "      <td>[[ Chloë Grace Moretz ,  Gary Carr ,  Jack Rey...</td>\n",
       "      <td>[[Science-Fiction , Drame , Mystère &amp; Thriller ]]</td>\n",
       "      <td>[https://images.justwatch.com/poster/301023314...</td>\n",
       "      <td>[ 8.1 (27k) ]</td>\n",
       "    </tr>\n",
       "    <tr>\n",
       "      <th>716</th>\n",
       "      <td>[2022]</td>\n",
       "      <td>[ Star Wars : Andor ]</td>\n",
       "      <td>[[ Diego Luna ,  Stellan Skarsgård ,  Kyle Sol...</td>\n",
       "      <td>[[Science-Fiction , Action &amp; Aventure , Film d...</td>\n",
       "      <td>[https://images.justwatch.com/poster/296836820...</td>\n",
       "      <td>[ 8.4 (72k) ]</td>\n",
       "    </tr>\n",
       "    <tr>\n",
       "      <th>717</th>\n",
       "      <td>[2022]</td>\n",
       "      <td>[ House of the Dragon ]</td>\n",
       "      <td>[[ Paddy Considine ,  Matt Smith ,  Emma D'Arc...</td>\n",
       "      <td>[[Science-Fiction , Drame , Action &amp; Aventure ...</td>\n",
       "      <td>[https://images.justwatch.com/poster/286270307...</td>\n",
       "      <td>[ 8.5 (264k) ]</td>\n",
       "    </tr>\n",
       "    <tr>\n",
       "      <th>718</th>\n",
       "      <td>[2022]</td>\n",
       "      <td>[ Mercredi ]</td>\n",
       "      <td>[[ Jenna Ortega ,  Gwendoline Christie ,  Perc...</td>\n",
       "      <td>[[Science-Fiction , Comédie , Crime &amp; Thriller...</td>\n",
       "      <td>[https://images.justwatch.com/poster/300809371...</td>\n",
       "      <td>[ 8.5 (33k) ]</td>\n",
       "    </tr>\n",
       "    <tr>\n",
       "      <th>719</th>\n",
       "      <td>[2022]</td>\n",
       "      <td>[ 1899 ]</td>\n",
       "      <td>[[ Emily Beecham ,  Andreas Pietschmann ,  Ane...</td>\n",
       "      <td>[[Mystère &amp; Thriller , Drame , Histoire , Horr...</td>\n",
       "      <td>[https://images.justwatch.com/poster/301799146...</td>\n",
       "      <td>[ 7.8 (37k) ]</td>\n",
       "    </tr>\n",
       "  </tbody>\n",
       "</table>\n",
       "<p>720 rows × 6 columns</p>\n",
       "</div>"
      ],
      "text/plain": [
       "          0                                                  1  \\\n",
       "0    [2022]                                       [ Mercredi ]   \n",
       "1    [2022]                                           [ 1899 ]   \n",
       "2    [2010]                               [ The Walking Dead ]   \n",
       "3    [2018]                                       [ Manifest ]   \n",
       "4    [2022]  [ Le Cabinet de curiosités de Guillermo del To...   \n",
       "..      ...                                                ...   \n",
       "715  [2022]            [ Périphériques, Les Mondes de Flynne ]   \n",
       "716  [2022]                              [ Star Wars : Andor ]   \n",
       "717  [2022]                            [ House of the Dragon ]   \n",
       "718  [2022]                                       [ Mercredi ]   \n",
       "719  [2022]                                           [ 1899 ]   \n",
       "\n",
       "                                                     2  \\\n",
       "0    [[ Jenna Ortega ,  Gwendoline Christie ,  Perc...   \n",
       "1    [[ Emily Beecham ,  Andreas Pietschmann ,  Ane...   \n",
       "2    [[ Norman Reedus ,  Melissa McBride ,  Lauren ...   \n",
       "3    [[ Melissa Roxburgh ,  Josh Dallas ,  Ty Doran...   \n",
       "4                                                 [[]]   \n",
       "..                                                 ...   \n",
       "715  [[ Chloë Grace Moretz ,  Gary Carr ,  Jack Rey...   \n",
       "716  [[ Diego Luna ,  Stellan Skarsgård ,  Kyle Sol...   \n",
       "717  [[ Paddy Considine ,  Matt Smith ,  Emma D'Arc...   \n",
       "718  [[ Jenna Ortega ,  Gwendoline Christie ,  Perc...   \n",
       "719  [[ Emily Beecham ,  Andreas Pietschmann ,  Ane...   \n",
       "\n",
       "                                                     3  \\\n",
       "0    [[Science-Fiction , Comédie , Crime & Thriller...   \n",
       "1    [[Mystère & Thriller , Drame , Histoire , Horr...   \n",
       "2    [[Action & Aventure , Drame , Science-Fiction ...   \n",
       "3    [[Drame , Science-Fiction , Mystère & Thriller ]]   \n",
       "4            [[Drame , Mystère & Thriller , Horreur ]]   \n",
       "..                                                 ...   \n",
       "715  [[Science-Fiction , Drame , Mystère & Thriller ]]   \n",
       "716  [[Science-Fiction , Action & Aventure , Film d...   \n",
       "717  [[Science-Fiction , Drame , Action & Aventure ...   \n",
       "718  [[Science-Fiction , Comédie , Crime & Thriller...   \n",
       "719  [[Mystère & Thriller , Drame , Histoire , Horr...   \n",
       "\n",
       "                                                     4               5  \n",
       "0    [https://images.justwatch.com/poster/300809371...   [ 8.5 (33k) ]  \n",
       "1    [https://images.justwatch.com/poster/301799146...   [ 7.8 (37k) ]  \n",
       "2    [https://images.justwatch.com/poster/113085646...  [ 8.1 (986k) ]  \n",
       "3    [https://images.justwatch.com/poster/301353166...   [ 7.1 (65k) ]  \n",
       "4    [https://images.justwatch.com/poster/301424163...   [ 7.1 (31k) ]  \n",
       "..                                                 ...             ...  \n",
       "715  [https://images.justwatch.com/poster/301023314...   [ 8.1 (27k) ]  \n",
       "716  [https://images.justwatch.com/poster/296836820...   [ 8.4 (72k) ]  \n",
       "717  [https://images.justwatch.com/poster/286270307...  [ 8.5 (264k) ]  \n",
       "718  [https://images.justwatch.com/poster/300809371...   [ 8.5 (33k) ]  \n",
       "719  [https://images.justwatch.com/poster/301799146...   [ 7.8 (37k) ]  \n",
       "\n",
       "[720 rows x 6 columns]"
      ]
     },
     "execution_count": 67,
     "metadata": {},
     "output_type": "execute_result"
    }
   ],
   "source": [
    "net_serie_df"
   ]
  },
  {
   "cell_type": "code",
   "execution_count": 89,
   "metadata": {},
   "outputs": [],
   "source": [
    "net_serie_df.to_csv(\"netflix_series.csv\")"
   ]
  },
  {
   "cell_type": "markdown",
   "metadata": {},
   "source": [
    "### AMAZON"
   ]
  },
  {
   "cell_type": "code",
   "execution_count": 69,
   "metadata": {},
   "outputs": [],
   "source": [
    "driver.get(list_amazon[0])"
   ]
  },
  {
   "cell_type": "code",
   "execution_count": 70,
   "metadata": {},
   "outputs": [],
   "source": [
    "scroll()\n"
   ]
  },
  {
   "cell_type": "code",
   "execution_count": 76,
   "metadata": {},
   "outputs": [],
   "source": [
    "list_amazon_all_Link = link_page()\n",
    "src = driver.page_source\n",
    "soup = BeautifulSoup(src, 'lxml')"
   ]
  },
  {
   "cell_type": "code",
   "execution_count": 77,
   "metadata": {},
   "outputs": [],
   "source": [
    "list_amazon_serie = serie_film_link(\"serie\", list_amazon_all_Link)\n",
    "list_amazon_film = serie_film_link(\"film\", list_amazon_all_Link)"
   ]
  },
  {
   "cell_type": "code",
   "execution_count": 78,
   "metadata": {},
   "outputs": [
    {
     "name": "stdout",
     "output_type": "stream",
     "text": [
      "440\n",
      "1530\n"
     ]
    }
   ],
   "source": [
    "print(len(list_amazon_serie))\n",
    "print(len(list_amazon_film))\n"
   ]
  },
  {
   "cell_type": "code",
   "execution_count": 80,
   "metadata": {},
   "outputs": [],
   "source": [
    "i=[]\n",
    "for link in list_amazon_film:\n",
    "    i.append((Scrap_page(link)))"
   ]
  },
  {
   "cell_type": "code",
   "execution_count": 83,
   "metadata": {},
   "outputs": [],
   "source": [
    "amazon_film_df=pd.DataFrame(i)"
   ]
  },
  {
   "cell_type": "code",
   "execution_count": null,
   "metadata": {},
   "outputs": [],
   "source": [
    "amazon_film_df"
   ]
  },
  {
   "cell_type": "code",
   "execution_count": 85,
   "metadata": {},
   "outputs": [],
   "source": [
    "amazon_film_df.drop(amazon_film_df.tail(5).index,inplace=True)"
   ]
  },
  {
   "cell_type": "code",
   "execution_count": 88,
   "metadata": {},
   "outputs": [],
   "source": [
    "amazon_film_df.to_csv(\"amazon_films.csv\")"
   ]
  },
  {
   "cell_type": "code",
   "execution_count": 90,
   "metadata": {},
   "outputs": [],
   "source": [
    "i=[]\n",
    "for link in list_amazon_serie:\n",
    "    i.append((Scrap_page(link)))"
   ]
  },
  {
   "cell_type": "code",
   "execution_count": 91,
   "metadata": {},
   "outputs": [],
   "source": [
    "amazon_serie_df=pd.DataFrame(i)"
   ]
  },
  {
   "cell_type": "code",
   "execution_count": null,
   "metadata": {},
   "outputs": [],
   "source": [
    "amazon_serie_df"
   ]
  },
  {
   "cell_type": "code",
   "execution_count": 94,
   "metadata": {},
   "outputs": [],
   "source": [
    "amazon_serie_df.drop(amazon_serie_df.tail(5).index,inplace=True)"
   ]
  },
  {
   "cell_type": "code",
   "execution_count": 95,
   "metadata": {},
   "outputs": [],
   "source": [
    "amazon_serie_df.to_csv(\"amazon_series.csv\")"
   ]
  },
  {
   "cell_type": "code",
   "execution_count": 79,
   "metadata": {},
   "outputs": [
    {
     "name": "stdout",
     "output_type": "stream",
     "text": [
      "['/fr/serie/the-peripheral', '/fr/serie/the-handmaids-tale', '/fr/serie/game-of-thrones', '/fr/serie/the-lord-of-the-rings', '/fr/serie/attack-on-titan', '/fr/serie/doctor-who', '/fr/serie/good-doctor-2017', '/fr/serie/a-la-croisee-des-mondes', '/fr/serie/the-boys', '/fr/serie/legacies', '/fr/serie/sherlock', '/fr/serie/chicago-fire', '/fr/serie/ncis-enquetes-speciales', '/fr/serie/the-office-us', '/fr/serie/demon-slayer-kimetsu-no-yaiba', '/fr/serie/this-is-us', '/fr/serie/too-old-to-die-young', '/fr/serie/house', '/fr/serie/shameless', '/fr/serie/the-devils-hour'] \n",
      "\n",
      "['/fr/film/terrifier', '/fr/film/un-homme-en-colere', '/fr/film/overdose', '/fr/film/vesper', '/fr/film/heredite', '/fr/film/tu-ne-tueras-point', '/fr/film/the-last-warrior-2-root-of-evil', '/fr/film/casino', '/fr/film/mon-nom-est-personne', '/fr/film/the-taste-of-others', '/fr/film/interstellar', '/fr/film/un-jour-sans-fin', '/fr/film/matrix', '/fr/film/forrest-gump', '/fr/film/shining', '/fr/film/parasite', '/fr/film/le-seigneur-des-anneaux-i-la-communaute-de-lanneau', '/fr/film/john-wick', '/fr/film/e-t-lextra-terrestre', '/fr/film/inglourious-basterds']\n"
     ]
    }
   ],
   "source": [
    "print(list_amazon_serie[0:20], '\\n')\n",
    "print(list_amazon_film[0:20])"
   ]
  },
  {
   "cell_type": "markdown",
   "metadata": {},
   "source": [
    "### DISNEY PLUS"
   ]
  },
  {
   "cell_type": "code",
   "execution_count": 9,
   "metadata": {},
   "outputs": [],
   "source": [
    "str = \"https://www.justwatch.com\"+list_disney[0]\n",
    "driver.get(str)"
   ]
  },
  {
   "cell_type": "code",
   "execution_count": 10,
   "metadata": {},
   "outputs": [],
   "source": [
    "scroll()"
   ]
  },
  {
   "cell_type": "code",
   "execution_count": 11,
   "metadata": {},
   "outputs": [],
   "source": [
    "src = driver.page_source\n",
    "soup = BeautifulSoup(src, 'lxml')\n",
    "list_diney_all_Link = link_page()"
   ]
  },
  {
   "cell_type": "code",
   "execution_count": 12,
   "metadata": {},
   "outputs": [],
   "source": [
    "list_disney_serie = serie_film_link(\"serie\", list_diney_all_Link)\n",
    "list_disney_film = serie_film_link(\"film\", list_diney_all_Link)"
   ]
  },
  {
   "cell_type": "code",
   "execution_count": 13,
   "metadata": {},
   "outputs": [
    {
     "name": "stdout",
     "output_type": "stream",
     "text": [
      "539\n",
      "1431\n"
     ]
    }
   ],
   "source": [
    "print(len(list_disney_serie))\n",
    "print(len(list_disney_film))\n"
   ]
  },
  {
   "cell_type": "code",
   "execution_count": 106,
   "metadata": {},
   "outputs": [],
   "source": [
    "i=[]\n",
    "for link in list_disney_serie:\n",
    "    i.append((Scrap_page(link)))"
   ]
  },
  {
   "cell_type": "code",
   "execution_count": 107,
   "metadata": {},
   "outputs": [],
   "source": [
    "disney_serie_df=pd.DataFrame(i)"
   ]
  },
  {
   "cell_type": "code",
   "execution_count": 108,
   "metadata": {},
   "outputs": [],
   "source": [
    "disney_serie_df.drop(disney_serie_df.tail(5).index,inplace=True)"
   ]
  },
  {
   "cell_type": "code",
   "execution_count": 109,
   "metadata": {},
   "outputs": [],
   "source": [
    "disney_serie_df.to_csv(\"disney_series.csv\")"
   ]
  },
  {
   "cell_type": "code",
   "execution_count": 19,
   "metadata": {},
   "outputs": [],
   "source": [
    "i=[]\n",
    "for link in list_disney_film:\n",
    "    i.append((Scrap_page(link)))"
   ]
  },
  {
   "cell_type": "code",
   "execution_count": 20,
   "metadata": {},
   "outputs": [],
   "source": [
    "disney_film_df=pd.DataFrame(i)"
   ]
  },
  {
   "cell_type": "code",
   "execution_count": 21,
   "metadata": {},
   "outputs": [],
   "source": [
    "disney_film_df.drop(disney_film_df.tail(5).index,inplace=True)"
   ]
  },
  {
   "cell_type": "code",
   "execution_count": 22,
   "metadata": {},
   "outputs": [],
   "source": [
    "disney_film_df.to_csv(\"disney_film.csv\")"
   ]
  },
  {
   "cell_type": "code",
   "execution_count": 102,
   "metadata": {},
   "outputs": [
    {
     "name": "stdout",
     "output_type": "stream",
     "text": [
      "['/fr/serie/andor', '/fr/serie/american-horror-story', '/fr/serie/the-bear', '/fr/serie/greys-anatomy', '/fr/serie/good-doctor-2017', '/fr/serie/the-old-man', '/fr/serie/tales-of-the-jedi', '/fr/serie/sherlock', '/fr/serie/zootopia', '/fr/serie/she-hulk', '/fr/serie/malcolm', '/fr/serie/the-resident', '/fr/serie/les-simpson', '/fr/serie/how-i-met-your-mother', '/fr/serie/9-1-1', '/fr/serie/limitless-with-chris-hemsworth', '/fr/serie/miraculous-les-aventures-de-ladybug-et-chat-noir', '/fr/serie/esprits-criminels', '/fr/serie/reboot-2022', '/fr/serie/hpi'] \n",
      "\n",
      "['/fr/film/avatar', '/fr/film/barbarian-2022', '/fr/film/black-panther', '/fr/film/the-guardians-of-the-galaxy-holiday-special', '/fr/film/disenchanted', '/fr/film/oss-117-le-caire-nid-despions', '/fr/film/pretty-woman', '/fr/film/terminator-dark-fate', '/fr/film/les-figures-de-lombre', '/fr/film/werewolf-by-night', '/fr/film/kingsman-services-secrets', '/fr/film/fight-club', '/fr/film/letrange-noel-de-monsieur-jack', '/fr/film/prey-2022', '/fr/film/nomadland', '/fr/film/ford-v-ferrari', '/fr/film/malefique-le-pouvoir-du-mal', '/fr/film/home-alone', '/fr/film/le-cercle-des-poetes-disparus', '/fr/film/venom']\n"
     ]
    }
   ],
   "source": [
    "print(list_disney_serie[0:20], '\\n')\n",
    "print(list_disney_film[0:20])"
   ]
  },
  {
   "cell_type": "markdown",
   "metadata": {},
   "source": [
    "### CANAL PLUS"
   ]
  },
  {
   "cell_type": "code",
   "execution_count": 23,
   "metadata": {},
   "outputs": [],
   "source": [
    "str = list_canal[0]\n",
    "driver.get(str)"
   ]
  },
  {
   "cell_type": "code",
   "execution_count": 25,
   "metadata": {},
   "outputs": [],
   "source": [
    "scroll()\n",
    "src = driver.page_source\n",
    "soup = BeautifulSoup(src, 'lxml')\n",
    "list_canal_all_Link = link_page()"
   ]
  },
  {
   "cell_type": "code",
   "execution_count": 26,
   "metadata": {},
   "outputs": [],
   "source": [
    "list_canal_serie = serie_film_link(\"serie\", list_canal_all_Link)\n",
    "list_canal_film = serie_film_link(\"film\", list_canal_all_Link)"
   ]
  },
  {
   "cell_type": "markdown",
   "metadata": {},
   "source": [
    "srapp film"
   ]
  },
  {
   "cell_type": "code",
   "execution_count": 28,
   "metadata": {},
   "outputs": [],
   "source": [
    "i=[]\n",
    "for link in list_canal_film:\n",
    "    i.append((Scrap_page(link)))"
   ]
  },
  {
   "cell_type": "code",
   "execution_count": 29,
   "metadata": {},
   "outputs": [],
   "source": [
    "canal_film_df=pd.DataFrame(i)"
   ]
  },
  {
   "cell_type": "code",
   "execution_count": 30,
   "metadata": {},
   "outputs": [],
   "source": [
    "canal_film_df.drop(canal_film_df.tail(5).index,inplace=True)"
   ]
  },
  {
   "cell_type": "code",
   "execution_count": 31,
   "metadata": {},
   "outputs": [],
   "source": [
    "canal_film_df.to_csv(\"canal_film.csv\")"
   ]
  },
  {
   "cell_type": "markdown",
   "metadata": {},
   "source": [
    "scrapp serie"
   ]
  },
  {
   "cell_type": "code",
   "execution_count": 32,
   "metadata": {},
   "outputs": [],
   "source": [
    "i=[]\n",
    "for link in list_canal_serie:\n",
    "    i.append((Scrap_page(link)))"
   ]
  },
  {
   "cell_type": "code",
   "execution_count": 33,
   "metadata": {},
   "outputs": [],
   "source": [
    "canal_serie_df=pd.DataFrame(i)\n",
    "canal_serie_df.drop(canal_serie_df.tail(5).index,inplace=True)"
   ]
  },
  {
   "cell_type": "code",
   "execution_count": 34,
   "metadata": {},
   "outputs": [],
   "source": [
    "canal_serie_df.to_csv(\"canal_series.csv\")"
   ]
  },
  {
   "cell_type": "markdown",
   "metadata": {},
   "source": [
    "### OCS"
   ]
  },
  {
   "cell_type": "code",
   "execution_count": 17,
   "metadata": {},
   "outputs": [],
   "source": [
    "driver.get(list_ocs[0])"
   ]
  },
  {
   "cell_type": "code",
   "execution_count": 18,
   "metadata": {},
   "outputs": [],
   "source": [
    "scroll()\n",
    "# verifier qu'il scroll bien jusqu'a la fin"
   ]
  },
  {
   "cell_type": "code",
   "execution_count": null,
   "metadata": {},
   "outputs": [],
   "source": [
    "src = driver.page_source\n",
    "soup = BeautifulSoup(src, 'lxml')\n",
    "list_ocs_all_Link = link_page()"
   ]
  },
  {
   "cell_type": "code",
   "execution_count": 19,
   "metadata": {},
   "outputs": [],
   "source": [
    "list_ocs_serie = serie_film_link(\"serie\", list_ocs_all_Link)\n",
    "list_ocs_film = serie_film_link(\"film\", list_ocs_all_Link)"
   ]
  },
  {
   "cell_type": "markdown",
   "metadata": {},
   "source": [
    "scrapp film"
   ]
  },
  {
   "cell_type": "code",
   "execution_count": null,
   "metadata": {},
   "outputs": [],
   "source": [
    "i=[]\n",
    "for link in list_ocs_film:\n",
    "    i.append((Scrap_page(link)))"
   ]
  },
  {
   "cell_type": "code",
   "execution_count": null,
   "metadata": {},
   "outputs": [],
   "source": [
    "ocs_film_df=pd.DataFrame(i)\n",
    "ocs_film_df.drop(ocs_film_df.tail(5).index,inplace=True)"
   ]
  },
  {
   "cell_type": "code",
   "execution_count": null,
   "metadata": {},
   "outputs": [],
   "source": [
    "ocs_film_df.to_csv(\"ocs_films.csv\")"
   ]
  },
  {
   "cell_type": "markdown",
   "metadata": {},
   "source": [
    "scrapp serie"
   ]
  },
  {
   "cell_type": "code",
   "execution_count": null,
   "metadata": {},
   "outputs": [],
   "source": [
    "i=[]\n",
    "for link in list_ocs_serie:\n",
    "    i.append((Scrap_page(link)))"
   ]
  },
  {
   "cell_type": "code",
   "execution_count": null,
   "metadata": {},
   "outputs": [],
   "source": [
    "ocs_serie_df=pd.DataFrame(i)\n",
    "ocs_serie_df.drop(ocs_serie_df.tail(5).index,inplace=True)"
   ]
  },
  {
   "cell_type": "code",
   "execution_count": null,
   "metadata": {},
   "outputs": [],
   "source": [
    "ocs_serie_df.to_csv(\"ocs_series.csv\")"
   ]
  },
  {
   "cell_type": "code",
   "execution_count": 20,
   "metadata": {},
   "outputs": [
    {
     "name": "stdout",
     "output_type": "stream",
     "text": [
      "['/fr/serie/house-of-the-dragon', '/fr/serie/the-walking-dead', '/fr/serie/the-handmaids-tale', '/fr/serie/game-of-thrones', '/fr/serie/the-white-lotus', '/fr/serie/westworld', '/fr/serie/a-la-croisee-des-mondes', '/fr/serie/true-detective', '/fr/serie/euphoria', '/fr/serie/the-nevers', '/fr/serie/avenue-5', '/fr/serie/the-wire', '/fr/serie/succession', '/fr/serie/chernobyl', '/fr/serie/atlanta', '/fr/serie/the-sopranos', '/fr/serie/freres-darmes', '/fr/serie/banshee', '/fr/serie/rome', '/fr/serie/watchmen'] \n",
      "\n",
      "['/fr/film/les-vedettes', '/fr/film/prisoners', '/fr/film/morbius', '/fr/film/twilight-chapitre-1-fascination', '/fr/film/les-crevettes-pailletees', '/fr/film/s-o-s-fantomes-lheritage', '/fr/film/fargo', '/fr/film/s-o-s-fantomes', '/fr/film/la-chasse', '/fr/film/in-the-dark-dont-breathe', '/fr/film/the-hunt', '/fr/film/zodiac', '/fr/film/un-amour-impossible', '/fr/film/mandibules', '/fr/film/la-famille-addams-2019', '/fr/film/un-apres-midi-de-chien', '/fr/film/problemos', '/fr/film/lion', '/fr/film/pleasure-2021', '/fr/film/american-nightmare-4-les-origines']\n"
     ]
    }
   ],
   "source": [
    "print(list_ocs_serie[0:20], '\\n')\n",
    "print(list_ocs_film[0:20])"
   ]
  },
  {
   "cell_type": "markdown",
   "metadata": {},
   "source": [
    "### WAKANIM"
   ]
  },
  {
   "cell_type": "code",
   "execution_count": 46,
   "metadata": {},
   "outputs": [],
   "source": [
    "str = \"https://www.justwatch.com\"+list_wakanim[0]\n",
    "driver.get(str)"
   ]
  },
  {
   "cell_type": "code",
   "execution_count": 47,
   "metadata": {},
   "outputs": [],
   "source": [
    "scroll()\n",
    "# verifier qu'il scroll bien jusqu'a la fin"
   ]
  },
  {
   "cell_type": "code",
   "execution_count": 48,
   "metadata": {},
   "outputs": [],
   "source": [
    "src = driver.page_source\n",
    "soup = BeautifulSoup(src, 'lxml')\n",
    "list_wakanim_all_Link = link_page()"
   ]
  },
  {
   "cell_type": "code",
   "execution_count": 49,
   "metadata": {},
   "outputs": [],
   "source": [
    "list_wakanim_serie = serie_film_link(\"serie\", list_wakanim_all_Link)\n",
    "list_wakanim_film = serie_film_link(\"film\", list_wakanim_all_Link)"
   ]
  },
  {
   "cell_type": "code",
   "execution_count": 50,
   "metadata": {},
   "outputs": [
    {
     "name": "stdout",
     "output_type": "stream",
     "text": [
      "233\n",
      "5\n"
     ]
    }
   ],
   "source": [
    "#verif \n",
    "print(len(list_wakanim_serie))\n",
    "print(len(list_wakanim_film))"
   ]
  },
  {
   "cell_type": "markdown",
   "metadata": {},
   "source": [
    "scrapp serie ( pas de film)"
   ]
  },
  {
   "cell_type": "code",
   "execution_count": 51,
   "metadata": {},
   "outputs": [],
   "source": [
    "i=[]\n",
    "for link in list_wakanim_serie:\n",
    "    i.append((Scrap_page(link)))"
   ]
  },
  {
   "cell_type": "code",
   "execution_count": 52,
   "metadata": {},
   "outputs": [],
   "source": [
    "wakanim_serie_df=pd.DataFrame(i)\n",
    "wakanim_serie_df.drop(wakanim_serie_df.tail(5).index,inplace=True)"
   ]
  },
  {
   "cell_type": "code",
   "execution_count": 53,
   "metadata": {},
   "outputs": [],
   "source": [
    "wakanim_serie_df.to_csv(\"wakanim_series.csv\")"
   ]
  },
  {
   "cell_type": "code",
   "execution_count": 26,
   "metadata": {},
   "outputs": [
    {
     "name": "stdout",
     "output_type": "stream",
     "text": [
      "['/fr/serie/attack-on-titan', '/fr/serie/demon-slayer-kimetsu-no-yaiba', '/fr/serie/jujutsu-kaisen', '/fr/serie/sword-art-online', '/fr/serie/haikyu', '/fr/serie/the-promised-neverland', '/fr/serie/made-in-abyss', '/fr/serie/fruits-basket', '/fr/serie/tokyo-ghoul', '/fr/serie/log-horizon', '/fr/serie/your-lie-in-april', '/fr/serie/danmachi-familia-myth', '/fr/serie/erased', '/fr/serie/enen-no-shouboutai-fire-force', '/fr/serie/mushoku-tensei-jobless-reincarnation-2021', '/fr/serie/ranking-of-kings', '/fr/serie/mo-wang-xue-yuan-nobu-shi-he-zhe-shi-shang-zui-qiang-nomo-wang-noshi-zu-zhuan-sheng-shitezi-sun-tachinoxue-xiao-hetong-u', '/fr/serie/kaguya-sama-love-is-war', '/fr/serie/plunderer', '/fr/serie/monogatari'] \n",
      "\n",
      "['/fr/film/enola-holmes-2', '/fr/film/all-quiet-on-the-western-front', '/fr/film/barbarian-2022', '/fr/film/harry-potter-a-lecole-des-sorciers', '/fr/film/terrifier']\n"
     ]
    }
   ],
   "source": [
    "print(list_wakanim_serie[0:20], '\\n')\n",
    "print(list_wakanim_film[0:20])"
   ]
  },
  {
   "cell_type": "markdown",
   "metadata": {},
   "source": [
    "### ADN"
   ]
  },
  {
   "cell_type": "code",
   "execution_count": 35,
   "metadata": {},
   "outputs": [],
   "source": [
    "str = \"https://www.justwatch.com\"+list_adn[0]\n",
    "driver.get(str)"
   ]
  },
  {
   "cell_type": "code",
   "execution_count": 36,
   "metadata": {},
   "outputs": [],
   "source": [
    "scroll()\n",
    "# verifier qu'il scroll bien jusqu'a la fin"
   ]
  },
  {
   "cell_type": "code",
   "execution_count": 37,
   "metadata": {},
   "outputs": [],
   "source": [
    "src = driver.page_source\n",
    "soup = BeautifulSoup(src, 'lxml')\n",
    "list_adn_all_Link = link_page()"
   ]
  },
  {
   "cell_type": "code",
   "execution_count": 38,
   "metadata": {},
   "outputs": [],
   "source": [
    "list_adn_serie = serie_film_link(\"serie\", list_adn_all_Link)\n",
    "list_adn_film = serie_film_link(\"film\", list_adn_all_Link)"
   ]
  },
  {
   "cell_type": "code",
   "execution_count": 39,
   "metadata": {},
   "outputs": [
    {
     "name": "stdout",
     "output_type": "stream",
     "text": [
      "242\n",
      "50\n"
     ]
    }
   ],
   "source": [
    "#verif \n",
    "print(len(list_adn_serie))\n",
    "print(len(list_adn_film))"
   ]
  },
  {
   "cell_type": "markdown",
   "metadata": {},
   "source": [
    "scrapp film"
   ]
  },
  {
   "cell_type": "code",
   "execution_count": 40,
   "metadata": {},
   "outputs": [],
   "source": [
    "i=[]\n",
    "for link in list_adn_film:\n",
    "    i.append((Scrap_page(link)))"
   ]
  },
  {
   "cell_type": "code",
   "execution_count": 41,
   "metadata": {},
   "outputs": [],
   "source": [
    "adn_film_df=pd.DataFrame(i)\n",
    "adn_film_df.drop(adn_film_df.tail(5).index,inplace=True)"
   ]
  },
  {
   "cell_type": "code",
   "execution_count": 42,
   "metadata": {},
   "outputs": [],
   "source": [
    "adn_film_df.to_csv(\"adn_films.csv\")"
   ]
  },
  {
   "cell_type": "markdown",
   "metadata": {},
   "source": [
    "scrapp serie"
   ]
  },
  {
   "cell_type": "code",
   "execution_count": 43,
   "metadata": {},
   "outputs": [],
   "source": [
    "i=[]\n",
    "for link in list_adn_serie:\n",
    "    i.append((Scrap_page(link)))"
   ]
  },
  {
   "cell_type": "code",
   "execution_count": 44,
   "metadata": {},
   "outputs": [],
   "source": [
    "adn_serie_df=pd.DataFrame(i)\n",
    "adn_serie_df.drop(adn_serie_df.tail(5).index,inplace=True)"
   ]
  },
  {
   "cell_type": "code",
   "execution_count": 45,
   "metadata": {},
   "outputs": [],
   "source": [
    "adn_serie_df.to_csv(\"adn_series.csv\")"
   ]
  }
 ],
 "metadata": {
  "kernelspec": {
   "display_name": "Python 3 (ipykernel)",
   "language": "python",
   "name": "python3"
  },
  "language_info": {
   "codemirror_mode": {
    "name": "ipython",
    "version": 3
   },
   "file_extension": ".py",
   "mimetype": "text/x-python",
   "name": "python",
   "nbconvert_exporter": "python",
   "pygments_lexer": "ipython3",
   "version": "3.9.13"
  },
  "vscode": {
   "interpreter": {
    "hash": "e7cb1b9ae4d417fedf7f40a8eec98f7cfbd359e096bd857395a915f4609834ce"
   }
  }
 },
 "nbformat": 4,
 "nbformat_minor": 2
}
