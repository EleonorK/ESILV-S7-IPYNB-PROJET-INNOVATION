{
 "cells": [
  {
   "cell_type": "markdown",
   "metadata": {},
   "source": [
    "### modif df du projet"
   ]
  },
  {
   "cell_type": "code",
   "execution_count": 32,
   "metadata": {},
   "outputs": [],
   "source": [
    "import pandas as pd\n",
    "import numpy as np\n",
    "import re"
   ]
  },
  {
   "cell_type": "markdown",
   "metadata": {},
   "source": [
    "### NETFLIX"
   ]
  },
  {
   "cell_type": "markdown",
   "metadata": {},
   "source": [
    "chargement csv"
   ]
  },
  {
   "cell_type": "code",
   "execution_count": 33,
   "metadata": {},
   "outputs": [],
   "source": [
    "def redefineYear(value):\n",
    "    try:\n",
    "        pattern = re.compile(r'\\s+')\n",
    "        value = re.sub(pattern, '', value)\n",
    "        return int((re.findall(r'\\d+', value))[0])\n",
    "    except:\n",
    "        return 0"
   ]
  },
  {
   "cell_type": "code",
   "execution_count": 34,
   "metadata": {},
   "outputs": [],
   "source": [
    "def redefine_nom(val):\n",
    "    liste_nom = []\n",
    "    sublist = str(val.split(\",\"))\n",
    "    sublist = sublist.rstrip()\n",
    "    sublist = sublist.lstrip()\n",
    "    sublist = sublist.replace(\"[\",\"\")\n",
    "    sublist = sublist.replace(\"]\",\"\")\n",
    "    sublist = sublist.replace(\"'\",\"\")\n",
    "    liste_nom.append(sublist)\n",
    "    return liste_nom"
   ]
  },
  {
   "cell_type": "code",
   "execution_count": 35,
   "metadata": {},
   "outputs": [],
   "source": [
    "def redefine_list(val):\n",
    "    liste_genres = []\n",
    "    sublist = str(val.split(\",\"))\n",
    "    sublist = sublist.rstrip()\n",
    "    sublist = sublist.lstrip()\n",
    "    sublist = sublist.replace(\"[\",\"\")\n",
    "    sublist = sublist.replace(\"]\",\"\")\n",
    "    sublist = sublist.replace(\"'\",\"\")\n",
    "    sublist = sublist.replace(\" \",\"\")\n",
    "    liste_genres.append(sublist)\n",
    "    return liste_genres"
   ]
  },
  {
   "cell_type": "code",
   "execution_count": 36,
   "metadata": {},
   "outputs": [],
   "source": [
    "def AddColumn_plat(df,column):\n",
    "    new_col = []\n",
    "    taille = len(df)\n",
    "    for i in range(taille):\n",
    "        new_col.append(column)\n",
    "    return new_col"
   ]
  },
  {
   "cell_type": "code",
   "execution_count": 37,
   "metadata": {},
   "outputs": [],
   "source": [
    "def find_content(col, content):\n",
    "    liste = []\n",
    "    for i in col:\n",
    "        i = str(i)\n",
    "        #print(i)\n",
    "        if (\"Pourenfants\" in i and \"Animation\" in i):\n",
    "            liste.append(\"Dessin animé\")\n",
    "        elif (\"Pourenfants\" in i):\n",
    "            liste.append(\"Série en famille\")\n",
    "        elif (\"Animation\" in i):\n",
    "            liste.append(\"Animation\")\n",
    "        else :\n",
    "            liste.append(content) \n",
    "    return liste"
   ]
  },
  {
   "cell_type": "code",
   "execution_count": 38,
   "metadata": {},
   "outputs": [],
   "source": [
    "def nettoyage_df(df, plat, content):\n",
    "    #drop les lignes vides et doublons\n",
    "    df = df.dropna()\n",
    "    df = df.loc[df.astype(str).drop_duplicates().index]\n",
    "\n",
    "    #set des noms de colonnes\n",
    "    col_name=['index','annee','nom','acteurs','genres','image','score']\n",
    "    df.rename(columns=dict(zip(np.arange(0,42,1),col_name)),inplace=True)\n",
    "    \n",
    "    #set l'index\n",
    "    df = df.astype({'index':'int'})\n",
    "    df.set_index(['index'], inplace=True)\n",
    "\n",
    "    #redefini les colonnes\n",
    "    df['annee']=df['annee'].map(redefineYear)\n",
    "    df['genres']=df['genres'].map(redefine_list)\n",
    "    df['acteurs'] = df['acteurs'].map(redefine_list)\n",
    "    df['image'] = df['image'].map(redefine_list)\n",
    "    df['score'] = df['score'].map(redefine_list)\n",
    "    \n",
    "    #creation de 2 nouvelles colonnes\n",
    "    col_content = find_content(df['genres'], content)\n",
    "    col_platform = AddColumn_plat(df,plat)\n",
    "    df['platforme'] = col_platform\n",
    "    df['type de contenu']  = col_content\n",
    "    return df"
   ]
  },
  {
   "cell_type": "code",
   "execution_count": 39,
   "metadata": {},
   "outputs": [],
   "source": [
    "net_serie = pd.read_csv(\"netflix_series.csv\",header=None,sep=\",\")\n",
    "net_serie = nettoyage_df(net_serie, \"netflix\", \"Série\")"
   ]
  },
  {
   "cell_type": "code",
   "execution_count": 40,
   "metadata": {},
   "outputs": [],
   "source": [
    "net_film = pd.read_csv(\"netflix_films.csv\",header=None,sep=\",\")\n",
    "net_film = nettoyage_df(net_film, \"netflix\", \"Film\")"
   ]
  },
  {
   "cell_type": "code",
   "execution_count": 41,
   "metadata": {},
   "outputs": [],
   "source": [
    "amazon_serie = pd.read_csv(\"amazon_series.csv\",header=None,sep=\",\")\n",
    "amazon_serie = nettoyage_df(amazon_serie, \"amazon\", \"Série\")"
   ]
  },
  {
   "cell_type": "code",
   "execution_count": 42,
   "metadata": {},
   "outputs": [],
   "source": [
    "amazon_film = pd.read_csv(\"amazon_films.csv\",header=None,sep=\",\")\n",
    "amazon_film = nettoyage_df(amazon_film, \"amazon\", \"Film\")"
   ]
  },
  {
   "cell_type": "code",
   "execution_count": 43,
   "metadata": {},
   "outputs": [],
   "source": [
    "disney_serie = pd.read_csv(\"disney_series.csv\",header=None,sep=\",\")\n",
    "disney_serie = nettoyage_df(disney_serie, \"disney\", \"Série\")"
   ]
  },
  {
   "cell_type": "code",
   "execution_count": 44,
   "metadata": {},
   "outputs": [],
   "source": [
    "disney_film = pd.read_csv(\"disney_films.csv\",header=None,sep=\",\")\n",
    "disney_film = nettoyage_df(disney_film, \"disney\", \"Film\")"
   ]
  },
  {
   "cell_type": "code",
   "execution_count": 45,
   "metadata": {},
   "outputs": [],
   "source": [
    "canal_serie = pd.read_csv(\"canal_series.csv\",header=None,sep=\",\")\n",
    "canal_serie = nettoyage_df(canal_serie, \"canal\", \"Série\")"
   ]
  },
  {
   "cell_type": "code",
   "execution_count": 46,
   "metadata": {},
   "outputs": [],
   "source": [
    "canal_film = pd.read_csv(\"canal_films.csv\",header=None,sep=\",\")\n",
    "canal_film = nettoyage_df(canal_film, \"canal\", \"Film\")"
   ]
  },
  {
   "cell_type": "code",
   "execution_count": 47,
   "metadata": {},
   "outputs": [],
   "source": [
    "ocs_serie = pd.read_csv(\"ocs_series.csv\",header=None,sep=\",\")\n",
    "ocs_serie = nettoyage_df(ocs_serie, \"ocs\", \"Série\")"
   ]
  },
  {
   "cell_type": "code",
   "execution_count": 48,
   "metadata": {},
   "outputs": [],
   "source": [
    "ocs_film = pd.read_csv(\"ocs_films.csv\",header=None,sep=\",\")\n",
    "ocs_film = nettoyage_df(ocs_film, \"ocs\", \"Film\")"
   ]
  },
  {
   "cell_type": "code",
   "execution_count": 49,
   "metadata": {},
   "outputs": [],
   "source": [
    "adn_serie = pd.read_csv(\"adn_series.csv\",header=None,sep=\",\")\n",
    "adn_serie = nettoyage_df(adn_serie, \"adn\", \"Série\")"
   ]
  },
  {
   "cell_type": "code",
   "execution_count": 50,
   "metadata": {},
   "outputs": [],
   "source": [
    "adn_film = pd.read_csv(\"adn_films.csv\",header=None,sep=\",\")\n",
    "adn_film = nettoyage_df(adn_film, \"adn\", \"Film\")"
   ]
  },
  {
   "cell_type": "code",
   "execution_count": 51,
   "metadata": {},
   "outputs": [],
   "source": [
    "wakanim_serie = pd.read_csv(\"wakanim_series.csv\",header=None,sep=\",\")\n",
    "wakanim_serie = nettoyage_df(wakanim_serie, \"wakanim\", \"Série\")"
   ]
  },
  {
   "cell_type": "code",
   "execution_count": 52,
   "metadata": {},
   "outputs": [],
   "source": [
    "frame = [net_serie, net_film, amazon_serie, amazon_film, disney_serie, disney_film, canal_serie, canal_film, ocs_serie, ocs_film, adn_serie, adn_film, wakanim_serie]\n",
    "final = pd.concat(frame)"
   ]
  },
  {
   "cell_type": "code",
   "execution_count": 53,
   "metadata": {},
   "outputs": [
    {
     "data": {
      "text/html": [
       "<div>\n",
       "<style scoped>\n",
       "    .dataframe tbody tr th:only-of-type {\n",
       "        vertical-align: middle;\n",
       "    }\n",
       "\n",
       "    .dataframe tbody tr th {\n",
       "        vertical-align: top;\n",
       "    }\n",
       "\n",
       "    .dataframe thead th {\n",
       "        text-align: right;\n",
       "    }\n",
       "</style>\n",
       "<table border=\"1\" class=\"dataframe\">\n",
       "  <thead>\n",
       "    <tr style=\"text-align: right;\">\n",
       "      <th></th>\n",
       "      <th>annee</th>\n",
       "      <th>nom</th>\n",
       "      <th>acteurs</th>\n",
       "      <th>genres</th>\n",
       "      <th>image</th>\n",
       "      <th>score</th>\n",
       "      <th>platforme</th>\n",
       "      <th>type de contenu</th>\n",
       "    </tr>\n",
       "    <tr>\n",
       "      <th>index</th>\n",
       "      <th></th>\n",
       "      <th></th>\n",
       "      <th></th>\n",
       "      <th></th>\n",
       "      <th></th>\n",
       "      <th></th>\n",
       "      <th></th>\n",
       "      <th></th>\n",
       "    </tr>\n",
       "  </thead>\n",
       "  <tbody>\n",
       "    <tr>\n",
       "      <th>0</th>\n",
       "      <td>2022</td>\n",
       "      <td>[' Mercredi ']</td>\n",
       "      <td>[\"JennaOrtega\",\"GwendolineChristie\",\"PercyHyne...</td>\n",
       "      <td>[\"Science-Fiction\",\"Comédie\",\"Crime&amp;Thriller\",...</td>\n",
       "      <td>[\"https://images.justwatch.com/poster/30080937...</td>\n",
       "      <td>[\"8.5(33k)\"]</td>\n",
       "      <td>netflix</td>\n",
       "      <td>Série en famille</td>\n",
       "    </tr>\n",
       "    <tr>\n",
       "      <th>1</th>\n",
       "      <td>2022</td>\n",
       "      <td>[' 1899 ']</td>\n",
       "      <td>[\"EmilyBeecham\",\"AndreasPietschmann\",\"AneurinB...</td>\n",
       "      <td>[\"Mystère&amp;Thriller\",\"Drame\",\"Histoire\",\"Horreur\"]</td>\n",
       "      <td>[\"https://images.justwatch.com/poster/30179914...</td>\n",
       "      <td>[\"7.8(37k)\"]</td>\n",
       "      <td>netflix</td>\n",
       "      <td>Série</td>\n",
       "    </tr>\n",
       "    <tr>\n",
       "      <th>2</th>\n",
       "      <td>2010</td>\n",
       "      <td>[' The Walking Dead ']</td>\n",
       "      <td>[\"NormanReedus\",\"MelissaMcBride\",\"LaurenCohan\"...</td>\n",
       "      <td>[\"Action&amp;Aventure\",\"Drame\",\"Science-Fiction\",\"...</td>\n",
       "      <td>[\"https://images.justwatch.com/poster/11308564...</td>\n",
       "      <td>[\"8.1(986k)\"]</td>\n",
       "      <td>netflix</td>\n",
       "      <td>Série</td>\n",
       "    </tr>\n",
       "    <tr>\n",
       "      <th>3</th>\n",
       "      <td>2018</td>\n",
       "      <td>[' Manifest ']</td>\n",
       "      <td>[\"MelissaRoxburgh\",\"JoshDallas\",\"TyDoran\",\"Mat...</td>\n",
       "      <td>[\"Drame\",\"Science-Fiction\",\"Mystère&amp;Thriller\"]</td>\n",
       "      <td>[\"https://images.justwatch.com/poster/30135316...</td>\n",
       "      <td>[\"7.1(65k)\"]</td>\n",
       "      <td>netflix</td>\n",
       "      <td>Série</td>\n",
       "    </tr>\n",
       "    <tr>\n",
       "      <th>4</th>\n",
       "      <td>2022</td>\n",
       "      <td>[' Le Cabinet de curiosités de Guillermo del T...</td>\n",
       "      <td>[]</td>\n",
       "      <td>[\"Drame\",\"Mystère&amp;Thriller\",\"Horreur\"]</td>\n",
       "      <td>[\"https://images.justwatch.com/poster/30142416...</td>\n",
       "      <td>[\"7.1(31k)\"]</td>\n",
       "      <td>netflix</td>\n",
       "      <td>Série</td>\n",
       "    </tr>\n",
       "    <tr>\n",
       "      <th>...</th>\n",
       "      <td>...</td>\n",
       "      <td>...</td>\n",
       "      <td>...</td>\n",
       "      <td>...</td>\n",
       "      <td>...</td>\n",
       "      <td>...</td>\n",
       "      <td>...</td>\n",
       "      <td>...</td>\n",
       "    </tr>\n",
       "    <tr>\n",
       "      <th>223</th>\n",
       "      <td>2015</td>\n",
       "      <td>[' Owarimonogatari ']</td>\n",
       "      <td>[]</td>\n",
       "      <td>[\"Animation\",\"Science-Fiction\",\"Mystère&amp;Thrill...</td>\n",
       "      <td>[\"https://images.justwatch.com/poster/24129844...</td>\n",
       "      <td>[\"8.4(1k)\"]</td>\n",
       "      <td>wakanim</td>\n",
       "      <td>Animation</td>\n",
       "    </tr>\n",
       "    <tr>\n",
       "      <th>224</th>\n",
       "      <td>2008</td>\n",
       "      <td>[' Flow ']</td>\n",
       "      <td>[]</td>\n",
       "      <td>[\"Drame\"]</td>\n",
       "      <td>[\"https://images.justwatch.com/poster/24726048...</td>\n",
       "      <td>[\"6.9\"]</td>\n",
       "      <td>wakanim</td>\n",
       "      <td>Série</td>\n",
       "    </tr>\n",
       "    <tr>\n",
       "      <th>225</th>\n",
       "      <td>2021</td>\n",
       "      <td>[' Hetalia: World Stars ']</td>\n",
       "      <td>[]</td>\n",
       "      <td>[\"Animation\",\"Comédie\"]</td>\n",
       "      <td>[\"https://images.justwatch.com/poster/24643987...</td>\n",
       "      <td>[\"6.8\"]</td>\n",
       "      <td>wakanim</td>\n",
       "      <td>Animation</td>\n",
       "    </tr>\n",
       "    <tr>\n",
       "      <th>226</th>\n",
       "      <td>2017</td>\n",
       "      <td>[\" Fate/Stay Night: Heaven's Feel \"]</td>\n",
       "      <td>[]</td>\n",
       "      <td>[\"Animation\",\"Horreur\"]</td>\n",
       "      <td>[\"https://images.justwatch.com/poster/29119989...</td>\n",
       "      <td>[\"8.5\"]</td>\n",
       "      <td>wakanim</td>\n",
       "      <td>Animation</td>\n",
       "    </tr>\n",
       "    <tr>\n",
       "      <th>227</th>\n",
       "      <td>2018</td>\n",
       "      <td>[' Born To ']</td>\n",
       "      <td>[]</td>\n",
       "      <td>[\"Documentaire\",\"Action&amp;Aventure\",\"Sport&amp;Fitne...</td>\n",
       "      <td>[\"https://images.justwatch.com/poster/24559816...</td>\n",
       "      <td>[nan]</td>\n",
       "      <td>wakanim</td>\n",
       "      <td>Série</td>\n",
       "    </tr>\n",
       "  </tbody>\n",
       "</table>\n",
       "<p>8997 rows × 8 columns</p>\n",
       "</div>"
      ],
      "text/plain": [
       "       annee                                                nom  \\\n",
       "index                                                             \n",
       "0       2022                                     [' Mercredi ']   \n",
       "1       2022                                         [' 1899 ']   \n",
       "2       2010                             [' The Walking Dead ']   \n",
       "3       2018                                     [' Manifest ']   \n",
       "4       2022  [' Le Cabinet de curiosités de Guillermo del T...   \n",
       "...      ...                                                ...   \n",
       "223     2015                              [' Owarimonogatari ']   \n",
       "224     2008                                         [' Flow ']   \n",
       "225     2021                         [' Hetalia: World Stars ']   \n",
       "226     2017               [\" Fate/Stay Night: Heaven's Feel \"]   \n",
       "227     2018                                      [' Born To ']   \n",
       "\n",
       "                                                 acteurs  \\\n",
       "index                                                      \n",
       "0      [\"JennaOrtega\",\"GwendolineChristie\",\"PercyHyne...   \n",
       "1      [\"EmilyBeecham\",\"AndreasPietschmann\",\"AneurinB...   \n",
       "2      [\"NormanReedus\",\"MelissaMcBride\",\"LaurenCohan\"...   \n",
       "3      [\"MelissaRoxburgh\",\"JoshDallas\",\"TyDoran\",\"Mat...   \n",
       "4                                                     []   \n",
       "...                                                  ...   \n",
       "223                                                   []   \n",
       "224                                                   []   \n",
       "225                                                   []   \n",
       "226                                                   []   \n",
       "227                                                   []   \n",
       "\n",
       "                                                  genres  \\\n",
       "index                                                      \n",
       "0      [\"Science-Fiction\",\"Comédie\",\"Crime&Thriller\",...   \n",
       "1      [\"Mystère&Thriller\",\"Drame\",\"Histoire\",\"Horreur\"]   \n",
       "2      [\"Action&Aventure\",\"Drame\",\"Science-Fiction\",\"...   \n",
       "3         [\"Drame\",\"Science-Fiction\",\"Mystère&Thriller\"]   \n",
       "4                 [\"Drame\",\"Mystère&Thriller\",\"Horreur\"]   \n",
       "...                                                  ...   \n",
       "223    [\"Animation\",\"Science-Fiction\",\"Mystère&Thrill...   \n",
       "224                                            [\"Drame\"]   \n",
       "225                              [\"Animation\",\"Comédie\"]   \n",
       "226                              [\"Animation\",\"Horreur\"]   \n",
       "227    [\"Documentaire\",\"Action&Aventure\",\"Sport&Fitne...   \n",
       "\n",
       "                                                   image          score  \\\n",
       "index                                                                     \n",
       "0      [\"https://images.justwatch.com/poster/30080937...   [\"8.5(33k)\"]   \n",
       "1      [\"https://images.justwatch.com/poster/30179914...   [\"7.8(37k)\"]   \n",
       "2      [\"https://images.justwatch.com/poster/11308564...  [\"8.1(986k)\"]   \n",
       "3      [\"https://images.justwatch.com/poster/30135316...   [\"7.1(65k)\"]   \n",
       "4      [\"https://images.justwatch.com/poster/30142416...   [\"7.1(31k)\"]   \n",
       "...                                                  ...            ...   \n",
       "223    [\"https://images.justwatch.com/poster/24129844...    [\"8.4(1k)\"]   \n",
       "224    [\"https://images.justwatch.com/poster/24726048...        [\"6.9\"]   \n",
       "225    [\"https://images.justwatch.com/poster/24643987...        [\"6.8\"]   \n",
       "226    [\"https://images.justwatch.com/poster/29119989...        [\"8.5\"]   \n",
       "227    [\"https://images.justwatch.com/poster/24559816...          [nan]   \n",
       "\n",
       "      platforme   type de contenu  \n",
       "index                              \n",
       "0       netflix  Série en famille  \n",
       "1       netflix             Série  \n",
       "2       netflix             Série  \n",
       "3       netflix             Série  \n",
       "4       netflix             Série  \n",
       "...         ...               ...  \n",
       "223     wakanim         Animation  \n",
       "224     wakanim             Série  \n",
       "225     wakanim         Animation  \n",
       "226     wakanim         Animation  \n",
       "227     wakanim             Série  \n",
       "\n",
       "[8997 rows x 8 columns]"
      ]
     },
     "execution_count": 53,
     "metadata": {},
     "output_type": "execute_result"
    }
   ],
   "source": [
    "final"
   ]
  },
  {
   "cell_type": "code",
   "execution_count": 54,
   "metadata": {},
   "outputs": [],
   "source": [
    "final.to_csv(\"all_content.csv\", header=True, index=False)"
   ]
  },
  {
   "cell_type": "markdown",
   "metadata": {},
   "source": [
    "## dossier test"
   ]
  },
  {
   "cell_type": "code",
   "execution_count": 55,
   "metadata": {},
   "outputs": [
    {
     "data": {
      "text/html": [
       "<div>\n",
       "<style scoped>\n",
       "    .dataframe tbody tr th:only-of-type {\n",
       "        vertical-align: middle;\n",
       "    }\n",
       "\n",
       "    .dataframe tbody tr th {\n",
       "        vertical-align: top;\n",
       "    }\n",
       "\n",
       "    .dataframe thead th {\n",
       "        text-align: right;\n",
       "    }\n",
       "</style>\n",
       "<table border=\"1\" class=\"dataframe\">\n",
       "  <thead>\n",
       "    <tr style=\"text-align: right;\">\n",
       "      <th></th>\n",
       "      <th>annee</th>\n",
       "      <th>nom</th>\n",
       "      <th>acteurs</th>\n",
       "      <th>genres</th>\n",
       "      <th>image</th>\n",
       "      <th>score</th>\n",
       "      <th>platforme</th>\n",
       "      <th>type de contenu</th>\n",
       "    </tr>\n",
       "  </thead>\n",
       "  <tbody>\n",
       "    <tr>\n",
       "      <th>0</th>\n",
       "      <td>2022</td>\n",
       "      <td>[' Mercredi ']</td>\n",
       "      <td>['\"JennaOrtega\",\"GwendolineChristie\",\"PercyHyn...</td>\n",
       "      <td>['\"Science-Fiction\",\"Comédie\",\"Crime&amp;Thriller\"...</td>\n",
       "      <td>['\"https://images.justwatch.com/poster/3008093...</td>\n",
       "      <td>['\"8.5(33k)\"']</td>\n",
       "      <td>netflix</td>\n",
       "      <td>Série en famille</td>\n",
       "    </tr>\n",
       "    <tr>\n",
       "      <th>1</th>\n",
       "      <td>2022</td>\n",
       "      <td>[' 1899 ']</td>\n",
       "      <td>['\"EmilyBeecham\",\"AndreasPietschmann\",\"Aneurin...</td>\n",
       "      <td>['\"Mystère&amp;Thriller\",\"Drame\",\"Histoire\",\"Horre...</td>\n",
       "      <td>['\"https://images.justwatch.com/poster/3017991...</td>\n",
       "      <td>['\"7.8(37k)\"']</td>\n",
       "      <td>netflix</td>\n",
       "      <td>Série</td>\n",
       "    </tr>\n",
       "    <tr>\n",
       "      <th>2</th>\n",
       "      <td>2010</td>\n",
       "      <td>[' The Walking Dead ']</td>\n",
       "      <td>['\"NormanReedus\",\"MelissaMcBride\",\"LaurenCohan...</td>\n",
       "      <td>['\"Action&amp;Aventure\",\"Drame\",\"Science-Fiction\",...</td>\n",
       "      <td>['\"https://images.justwatch.com/poster/1130856...</td>\n",
       "      <td>['\"8.1(986k)\"']</td>\n",
       "      <td>netflix</td>\n",
       "      <td>Série</td>\n",
       "    </tr>\n",
       "  </tbody>\n",
       "</table>\n",
       "</div>"
      ],
      "text/plain": [
       "   annee                     nom  \\\n",
       "0   2022          [' Mercredi ']   \n",
       "1   2022              [' 1899 ']   \n",
       "2   2010  [' The Walking Dead ']   \n",
       "\n",
       "                                             acteurs  \\\n",
       "0  ['\"JennaOrtega\",\"GwendolineChristie\",\"PercyHyn...   \n",
       "1  ['\"EmilyBeecham\",\"AndreasPietschmann\",\"Aneurin...   \n",
       "2  ['\"NormanReedus\",\"MelissaMcBride\",\"LaurenCohan...   \n",
       "\n",
       "                                              genres  \\\n",
       "0  ['\"Science-Fiction\",\"Comédie\",\"Crime&Thriller\"...   \n",
       "1  ['\"Mystère&Thriller\",\"Drame\",\"Histoire\",\"Horre...   \n",
       "2  ['\"Action&Aventure\",\"Drame\",\"Science-Fiction\",...   \n",
       "\n",
       "                                               image            score  \\\n",
       "0  ['\"https://images.justwatch.com/poster/3008093...   ['\"8.5(33k)\"']   \n",
       "1  ['\"https://images.justwatch.com/poster/3017991...   ['\"7.8(37k)\"']   \n",
       "2  ['\"https://images.justwatch.com/poster/1130856...  ['\"8.1(986k)\"']   \n",
       "\n",
       "  platforme   type de contenu  \n",
       "0   netflix  Série en famille  \n",
       "1   netflix             Série  \n",
       "2   netflix             Série  "
      ]
     },
     "execution_count": 55,
     "metadata": {},
     "output_type": "execute_result"
    }
   ],
   "source": [
    "autre = pd.read_csv(\"all_content.csv\",sep=\",\")\n",
    "autre.head(3)"
   ]
  },
  {
   "cell_type": "code",
   "execution_count": 56,
   "metadata": {},
   "outputs": [
    {
     "data": {
      "text/html": [
       "<div>\n",
       "<style scoped>\n",
       "    .dataframe tbody tr th:only-of-type {\n",
       "        vertical-align: middle;\n",
       "    }\n",
       "\n",
       "    .dataframe tbody tr th {\n",
       "        vertical-align: top;\n",
       "    }\n",
       "\n",
       "    .dataframe thead th {\n",
       "        text-align: right;\n",
       "    }\n",
       "</style>\n",
       "<table border=\"1\" class=\"dataframe\">\n",
       "  <thead>\n",
       "    <tr style=\"text-align: right;\">\n",
       "      <th></th>\n",
       "      <th>annee</th>\n",
       "      <th>nom</th>\n",
       "      <th>acteurs</th>\n",
       "      <th>genres</th>\n",
       "      <th>image</th>\n",
       "      <th>score</th>\n",
       "      <th>platforme</th>\n",
       "      <th>type de contenu</th>\n",
       "    </tr>\n",
       "  </thead>\n",
       "  <tbody>\n",
       "    <tr>\n",
       "      <th>8994</th>\n",
       "      <td>2021</td>\n",
       "      <td>[' Hetalia: World Stars ']</td>\n",
       "      <td>['']</td>\n",
       "      <td>['\"Animation\",\"Comédie\"']</td>\n",
       "      <td>['\"https://images.justwatch.com/poster/2464398...</td>\n",
       "      <td>['\"6.8\"']</td>\n",
       "      <td>wakanim</td>\n",
       "      <td>Animation</td>\n",
       "    </tr>\n",
       "    <tr>\n",
       "      <th>8995</th>\n",
       "      <td>2017</td>\n",
       "      <td>[\" Fate/Stay Night: Heaven's Feel \"]</td>\n",
       "      <td>['']</td>\n",
       "      <td>['\"Animation\",\"Horreur\"']</td>\n",
       "      <td>['\"https://images.justwatch.com/poster/2911998...</td>\n",
       "      <td>['\"8.5\"']</td>\n",
       "      <td>wakanim</td>\n",
       "      <td>Animation</td>\n",
       "    </tr>\n",
       "    <tr>\n",
       "      <th>8996</th>\n",
       "      <td>2018</td>\n",
       "      <td>[' Born To ']</td>\n",
       "      <td>['']</td>\n",
       "      <td>['\"Documentaire\",\"Action&amp;Aventure\",\"Sport&amp;Fitn...</td>\n",
       "      <td>['\"https://images.justwatch.com/poster/2455981...</td>\n",
       "      <td>['nan']</td>\n",
       "      <td>wakanim</td>\n",
       "      <td>Série</td>\n",
       "    </tr>\n",
       "  </tbody>\n",
       "</table>\n",
       "</div>"
      ],
      "text/plain": [
       "      annee                                   nom acteurs  \\\n",
       "8994   2021            [' Hetalia: World Stars ']    ['']   \n",
       "8995   2017  [\" Fate/Stay Night: Heaven's Feel \"]    ['']   \n",
       "8996   2018                         [' Born To ']    ['']   \n",
       "\n",
       "                                                 genres  \\\n",
       "8994                          ['\"Animation\",\"Comédie\"']   \n",
       "8995                          ['\"Animation\",\"Horreur\"']   \n",
       "8996  ['\"Documentaire\",\"Action&Aventure\",\"Sport&Fitn...   \n",
       "\n",
       "                                                  image      score platforme  \\\n",
       "8994  ['\"https://images.justwatch.com/poster/2464398...  ['\"6.8\"']   wakanim   \n",
       "8995  ['\"https://images.justwatch.com/poster/2911998...  ['\"8.5\"']   wakanim   \n",
       "8996  ['\"https://images.justwatch.com/poster/2455981...    ['nan']   wakanim   \n",
       "\n",
       "     type de contenu  \n",
       "8994       Animation  \n",
       "8995       Animation  \n",
       "8996           Série  "
      ]
     },
     "execution_count": 56,
     "metadata": {},
     "output_type": "execute_result"
    }
   ],
   "source": [
    "autre.tail(3)"
   ]
  }
 ],
 "metadata": {
  "kernelspec": {
   "display_name": "Python 3.9.13 ('base')",
   "language": "python",
   "name": "python3"
  },
  "language_info": {
   "codemirror_mode": {
    "name": "ipython",
    "version": 3
   },
   "file_extension": ".py",
   "mimetype": "text/x-python",
   "name": "python",
   "nbconvert_exporter": "python",
   "pygments_lexer": "ipython3",
   "version": "3.9.13"
  },
  "orig_nbformat": 4,
  "vscode": {
   "interpreter": {
    "hash": "e7cb1b9ae4d417fedf7f40a8eec98f7cfbd359e096bd857395a915f4609834ce"
   }
  }
 },
 "nbformat": 4,
 "nbformat_minor": 2
}
